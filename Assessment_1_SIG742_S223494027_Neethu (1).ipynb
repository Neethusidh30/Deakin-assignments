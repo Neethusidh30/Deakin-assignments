{
  "nbformat": 4,
  "nbformat_minor": 0,
  "metadata": {
    "colab": {
      "provenance": []
    },
    "kernelspec": {
      "name": "python3",
      "display_name": "Python 3"
    },
    "language_info": {
      "name": "python"
    }
  },
  "cells": [
    {
      "cell_type": "markdown",
      "source": [
        "**Student ID : S223494027**\n",
        "\n",
        "**Student Name : Neethu Sidhardhan**\n"
      ],
      "metadata": {
        "id": "NeIe0mU4kmNg"
      }
    },
    {
      "cell_type": "markdown",
      "source": [
        "**Question 1.1**"
      ],
      "metadata": {
        "id": "8VvEu815IbHe"
      }
    },
    {
      "cell_type": "markdown",
      "source": [
        "ages = [5,31,43,48,50,41,7,11,15,39,80,82,32,2,8,6,25,36,27,61,31] and the length of the list is 21\n",
        "\n",
        "*  Find the average value of age (don’t use numpy and do not import other module or library, do not directly use math,statistics module functions except the function sum);\n",
        "*  Find the standard deviation from the age list (don’t use numpy and do not import other module or library, do not directly use math, statistics module functions except the function sum)\n"
      ],
      "metadata": {
        "id": "Q9MrbOg3Hd_r"
      }
    },
    {
      "cell_type": "markdown",
      "source": [
        "**Solution 1.1**"
      ],
      "metadata": {
        "id": "cPZvQABbIzEA"
      }
    },
    {
      "cell_type": "code",
      "execution_count": 1,
      "metadata": {
        "id": "wz_4DdmGGXQP"
      },
      "outputs": [],
      "source": [
        "ages = [5,31,43,48,50,41,7,11,15,39,80,82,32,2,8,6,25,36,27,61,31]"
      ]
    },
    {
      "cell_type": "code",
      "source": [
        "len (ages)"
      ],
      "metadata": {
        "colab": {
          "base_uri": "https://localhost:8080/"
        },
        "id": "WjVLJrdgHa_Z",
        "outputId": "43b6345f-437f-4e09-bab1-27272041cce6"
      },
      "execution_count": 2,
      "outputs": [
        {
          "output_type": "execute_result",
          "data": {
            "text/plain": [
              "21"
            ]
          },
          "metadata": {},
          "execution_count": 2
        }
      ]
    },
    {
      "cell_type": "code",
      "source": [
        "sum(ages)"
      ],
      "metadata": {
        "colab": {
          "base_uri": "https://localhost:8080/"
        },
        "id": "DOeH9iC0LAiv",
        "outputId": "a2fc280e-e48e-497d-954b-c2784450b966"
      },
      "execution_count": 3,
      "outputs": [
        {
          "output_type": "execute_result",
          "data": {
            "text/plain": [
              "680"
            ]
          },
          "metadata": {},
          "execution_count": 3
        }
      ]
    },
    {
      "cell_type": "code",
      "source": [
        "680/21"
      ],
      "metadata": {
        "colab": {
          "base_uri": "https://localhost:8080/"
        },
        "id": "qB3B8t09LMbe",
        "outputId": "7edd91b7-603a-4d7f-a89d-4631d9331913"
      },
      "execution_count": 4,
      "outputs": [
        {
          "output_type": "execute_result",
          "data": {
            "text/plain": [
              "32.38095238095238"
            ]
          },
          "metadata": {},
          "execution_count": 4
        }
      ]
    },
    {
      "cell_type": "code",
      "source": [
        "def calculate_mean(ages):\n",
        "    total = sum(ages)\n",
        "    count = len(ages)\n",
        "    return total / count"
      ],
      "metadata": {
        "id": "vP1voGVAJ6Qd"
      },
      "execution_count": 5,
      "outputs": []
    },
    {
      "cell_type": "code",
      "source": [
        "def calculate_sum_of_squared_deviations(ages, mean):\n",
        "    squared_deviations = [(x - mean) ** 2 for x in ages]\n",
        "    return sum(squared_deviations)"
      ],
      "metadata": {
        "id": "IkrSEX7RKH1K"
      },
      "execution_count": 6,
      "outputs": []
    },
    {
      "cell_type": "code",
      "source": [
        "def calculate_standard_deviation(ages):\n",
        "    mean = calculate_mean(ages)\n",
        "    sum_squared_deviations = calculate_sum_of_squared_deviations(ages, mean)\n",
        "    variance = sum_squared_deviations / (len(ages) - 1)  # Sample variance\n",
        "    standard_deviation = variance ** 0.5  # Standard deviation is the square root of variance\n",
        "    return standard_deviation"
      ],
      "metadata": {
        "id": "6jmvNPTQKOuJ"
      },
      "execution_count": 8,
      "outputs": []
    },
    {
      "cell_type": "code",
      "source": [
        "average_age = calculate_mean(ages)\n",
        "print(\"Average Age:\", average_age)"
      ],
      "metadata": {
        "colab": {
          "base_uri": "https://localhost:8080/"
        },
        "id": "gQ7QZfhjKWRt",
        "outputId": "84a5765f-0fb7-4b8d-c4d2-cbe5ac924ad2"
      },
      "execution_count": 9,
      "outputs": [
        {
          "output_type": "stream",
          "name": "stdout",
          "text": [
            "Average Age: 32.38095238095238\n"
          ]
        }
      ]
    },
    {
      "cell_type": "code",
      "source": [
        "std_deviation = calculate_standard_deviation(ages)\n",
        "print(\"Standard Deviation:\", std_deviation)"
      ],
      "metadata": {
        "colab": {
          "base_uri": "https://localhost:8080/"
        },
        "id": "-cTsJGUkKfSh",
        "outputId": "b81fde08-7945-4cbf-9387-d763cd08de68"
      },
      "execution_count": 10,
      "outputs": [
        {
          "output_type": "stream",
          "name": "stdout",
          "text": [
            "Standard Deviation: 23.238924653426174\n"
          ]
        }
      ]
    },
    {
      "cell_type": "markdown",
      "source": [
        "**Question 1.2**\n",
        "\n",
        "Writing the code or function to achieve below requirements:\n",
        "\n",
        "*   You are given the heads of two sorted linked lists list1 = [1,2,4] and list2 = [1,3,4]. Merge the two lists in a one sorted list which is [1,1,2,3,4,4]. (don’t use numpy or import othermodule / library);\n",
        "\n",
        "*    You are given the heads of two sorted linked lists list1 = [1,2,4] and list2 = [1,3,4]. Merge the two lists in a one sorted list without duplicated elements which is [1,2,3,4]. (don’t use numpy or import other module / library);"
      ],
      "metadata": {
        "id": "kUtquaycKpLs"
      }
    },
    {
      "cell_type": "markdown",
      "source": [
        "**Solution 1.2**"
      ],
      "metadata": {
        "id": "bAeUZq6OLpi7"
      }
    },
    {
      "cell_type": "code",
      "source": [
        "class ListNode:\n",
        "    def __init__(self, val=0, next=None):\n",
        "        self.val = val\n",
        "        self.next = next\n",
        "\n",
        "def merge_sorted_lists(list1, list2):\n",
        "    # Create a dummy node as the head of the merged list\n",
        "    dummy_head = ListNode()\n",
        "    current = dummy_head\n",
        "\n",
        "    while list1 is not None and list2 is not None:\n",
        "        if list1.val < list2.val:\n",
        "            current.next = list1\n",
        "            list1 = list1.next\n",
        "        else:\n",
        "            current.next = list2\n",
        "            list2 = list2.next\n",
        "        current = current.next\n",
        "\n",
        "    # Append any remaining elements from list1 or list2\n",
        "    if list1 is not None:\n",
        "        current.next = list1\n",
        "    else:\n",
        "        current.next = list2\n",
        "\n",
        "    return dummy_head.next\n",
        "\n",
        "# Helper function to convert a list to a linked list\n",
        "def list_to_linked_list(lst):\n",
        "    dummy_head = ListNode()\n",
        "    current = dummy_head\n",
        "    for val in lst:\n",
        "        current.next = ListNode(val)\n",
        "        current = current.next\n",
        "    return dummy_head.next\n",
        "\n",
        "# Helper function to convert a linked list to a list\n",
        "def linked_list_to_list(head):\n",
        "    result = []\n",
        "    current = head\n",
        "    while current is not None:\n",
        "        result.append(current.val)\n",
        "        current = current.next\n",
        "    return result\n",
        "\n",
        "# List given in Question\n",
        "list1 = [1, 2, 4]\n",
        "list2 = [1, 3, 4]\n",
        "linked_list1 = list_to_linked_list(list1)\n",
        "linked_list2 = list_to_linked_list(list2)\n",
        "merged_linked_list = merge_sorted_lists(linked_list1, linked_list2)\n",
        "merged_list = linked_list_to_list(merged_linked_list)\n",
        "print(merged_list)\n"
      ],
      "metadata": {
        "colab": {
          "base_uri": "https://localhost:8080/"
        },
        "id": "hriX5tSWO8So",
        "outputId": "658c7172-09b4-4036-c435-3dfc8bf4a7ce"
      },
      "execution_count": 11,
      "outputs": [
        {
          "output_type": "stream",
          "name": "stdout",
          "text": [
            "[1, 1, 2, 3, 4, 4]\n"
          ]
        }
      ]
    },
    {
      "cell_type": "code",
      "source": [
        "class ListNode:\n",
        "    def __init__(self, val=0, next=None):\n",
        "        self.val = val\n",
        "        self.next = next\n",
        "\n",
        "def merge_sorted_lists_without_duplicates(list1, list2):\n",
        "    dummy_head = ListNode()\n",
        "    current = dummy_head\n",
        "\n",
        "    while list1 and list2:\n",
        "        if list1.val < list2.val:\n",
        "            current.next = list1\n",
        "            list1 = list1.next\n",
        "        elif list1.val > list2.val:\n",
        "            current.next = list2\n",
        "            list2 = list2.next\n",
        "        else:  # Equal values, skip one\n",
        "            current.next = list1\n",
        "            list1 = list1.next\n",
        "            list2 = list2.next\n",
        "        current = current.next\n",
        "\n",
        "    # Append remaining elements from list1 or list2\n",
        "    current.next = list1 or list2\n",
        "\n",
        "    return dummy_head.next\n",
        "\n",
        "# Helper functions for list-to-linked-list and linked-list-to-list conversions (same as before)\n",
        "\n",
        "list1 = [1, 2, 4]\n",
        "list2 = [1, 3, 4]\n",
        "\n",
        "linked_list1 = list_to_linked_list(list1)\n",
        "linked_list2 = list_to_linked_list(list2)\n",
        "\n",
        "merged_linked_list_without_duplicates = merge_sorted_lists_without_duplicates(linked_list1, linked_list2)\n",
        "merged_list_without_duplicates = linked_list_to_list(merged_linked_list_without_duplicates)\n",
        "print(merged_list_without_duplicates)\n"
      ],
      "metadata": {
        "colab": {
          "base_uri": "https://localhost:8080/"
        },
        "id": "IxwQOvdjPSwF",
        "outputId": "3b3e5005-eb43-43ee-fc1a-b458d6083bd0"
      },
      "execution_count": 12,
      "outputs": [
        {
          "output_type": "stream",
          "name": "stdout",
          "text": [
            "[1, 2, 3, 4]\n"
          ]
        }
      ]
    },
    {
      "cell_type": "markdown",
      "source": [
        "**Question 1.3**\n",
        "\n",
        "You are required to design the code (by writing code or function) could achieve the mobile number searching mechanism which could allow you to:\n",
        "\n",
        "*   for Four mobile numbers in a list [’10009091003’,’10008293312’,’10007838282’, ‘130001002’]\n",
        "*    print “Yes” when last digit in mobile number is not 3\n",
        "*    print “No” when last digit in mobile number is 3\n",
        "*   print “Not Valid” when length of the mobile number is small than 11 digits"
      ],
      "metadata": {
        "id": "OTezL7UFQHMf"
      }
    },
    {
      "cell_type": "markdown",
      "source": [
        "**Solution 1.3**"
      ],
      "metadata": {
        "id": "1xMiHz0bTKRY"
      }
    },
    {
      "cell_type": "code",
      "source": [
        "mobile_numbers = ['10009091003', '10008293312', '10007838282', '130001002']"
      ],
      "metadata": {
        "id": "rJvMBMUhQGfr"
      },
      "execution_count": 13,
      "outputs": []
    },
    {
      "cell_type": "code",
      "source": [
        "def check_mobile_numbers(mobile_numbers):\n",
        "    for number in mobile_numbers:\n",
        "        if len(number) < 11:\n",
        "            print(\"Not Valid\")\n",
        "        elif number[-1] != '3':\n",
        "            print(\"Yes\")\n",
        "        else:\n",
        "            print(\"No\")"
      ],
      "metadata": {
        "id": "L8gztqH7TfC_"
      },
      "execution_count": 14,
      "outputs": []
    },
    {
      "cell_type": "code",
      "source": [
        "check_mobile_numbers(mobile_numbers)"
      ],
      "metadata": {
        "colab": {
          "base_uri": "https://localhost:8080/"
        },
        "id": "EJM-VXCZTpbj",
        "outputId": "2bf82c83-6318-4694-c6dc-acad5a66a80b"
      },
      "execution_count": 15,
      "outputs": [
        {
          "output_type": "stream",
          "name": "stdout",
          "text": [
            "No\n",
            "Yes\n",
            "Yes\n",
            "Not Valid\n"
          ]
        }
      ]
    },
    {
      "cell_type": "markdown",
      "source": [
        "**Solution 1.4**"
      ],
      "metadata": {
        "id": "XxDvBWp_UVYk"
      }
    },
    {
      "cell_type": "code",
      "source": [
        "for i in range(5):\n",
        "    for j in range(i + 1):\n",
        "        print('*', end='')\n",
        "    print()\n"
      ],
      "metadata": {
        "colab": {
          "base_uri": "https://localhost:8080/"
        },
        "id": "6vDN7ltDVHSS",
        "outputId": "d9107fef-22e1-4813-aceb-923d6cbfbc1a"
      },
      "execution_count": 16,
      "outputs": [
        {
          "output_type": "stream",
          "name": "stdout",
          "text": [
            "*\n",
            "**\n",
            "***\n",
            "****\n",
            "*****\n"
          ]
        }
      ]
    },
    {
      "cell_type": "markdown",
      "source": [
        "**Question 1.5**\n",
        "\n",
        "Given list A = [1,2,3,[4,5,[’x1’,6,[1,2,3,’sig742’]]]],\n",
        "writing a function to print 1,2,3,4,5,x1,6,1,2,3,sig742 (must define a function to run, the input for function is list A, run the function and print the results line by line or in one line)"
      ],
      "metadata": {
        "id": "Aqrue-JtXj9M"
      }
    },
    {
      "cell_type": "markdown",
      "source": [
        "**Solution 1.5**"
      ],
      "metadata": {
        "id": "xj_I1TI3ehhu"
      }
    },
    {
      "cell_type": "code",
      "source": [
        "A = [1, 2, 3, [4, 5, ['x1', 6, [1, 2, 3, 'sig742']]]]"
      ],
      "metadata": {
        "id": "aWnXXyA3el1q"
      },
      "execution_count": 17,
      "outputs": []
    },
    {
      "cell_type": "code",
      "source": [
        "def print_nested_elements(lst):\n",
        "    for item in lst:\n",
        "        if isinstance(item, list):\n",
        "            print_nested_elements(item)\n",
        "        else:\n",
        "            print(item)"
      ],
      "metadata": {
        "id": "B8-zZd17e5V3"
      },
      "execution_count": 19,
      "outputs": []
    },
    {
      "cell_type": "code",
      "source": [
        "print_nested_elements(A)"
      ],
      "metadata": {
        "colab": {
          "base_uri": "https://localhost:8080/"
        },
        "id": "H4L6IZ6ae_tU",
        "outputId": "5f9be9d5-081f-4ef2-f99f-a864b78460bd"
      },
      "execution_count": 20,
      "outputs": [
        {
          "output_type": "stream",
          "name": "stdout",
          "text": [
            "1\n",
            "2\n",
            "3\n",
            "4\n",
            "5\n",
            "x1\n",
            "6\n",
            "1\n",
            "2\n",
            "3\n",
            "sig742\n"
          ]
        }
      ]
    },
    {
      "cell_type": "markdown",
      "source": [
        "**Question 1.6**\n",
        "\n",
        "Write the code or function to achieve:\n",
        "Sort the dictionary list=[{\n",
        "′name\n",
        "′\n",
        ": a,\n",
        "′ age\n",
        "′\n",
        ": 55}, {\n",
        "′name\n",
        "′\n",
        ": b,\n",
        "′ age\n",
        "′\n",
        ": 30}, {\n",
        "′name\n",
        "′\n",
        ": c,\n",
        "′ age\n",
        "′\n",
        ": 50}]\n",
        "with the value of age (from smallest to largest, you could use default sorted function)."
      ],
      "metadata": {
        "id": "OTrTZqblh4_y"
      }
    },
    {
      "cell_type": "markdown",
      "source": [
        "**Solution 1.6**"
      ],
      "metadata": {
        "id": "pj7c8bw-iFUp"
      }
    },
    {
      "cell_type": "code",
      "source": [
        "list_of_dicts = [\n",
        "    {'name': 'a', 'age': 55},\n",
        "    {'name': 'b', 'age': 30},\n",
        "    {'name': 'c', 'age': 50}\n",
        "]"
      ],
      "metadata": {
        "id": "xli50ULLU4vr"
      },
      "execution_count": 34,
      "outputs": []
    },
    {
      "cell_type": "code",
      "source": [
        "sorted_list = sorted(list_of_dicts, key=lambda x: x['age'])\n",
        "print(sorted_list)"
      ],
      "metadata": {
        "colab": {
          "base_uri": "https://localhost:8080/"
        },
        "id": "Py9VC5UvfTiA",
        "outputId": "cb7bd3e5-8e32-4714-e4f5-50c7aaff6ec6"
      },
      "execution_count": 36,
      "outputs": [
        {
          "output_type": "stream",
          "name": "stdout",
          "text": [
            "[{'name': 'b', 'age': 30}, {'name': 'c', 'age': 50}, {'name': 'a', 'age': 55}]\n"
          ]
        }
      ]
    },
    {
      "cell_type": "markdown",
      "source": [
        "**Question 1.7**\n",
        "\n",
        "Define two functions to sum your student ID (all numeric digits in the ID) and then find out if the\n",
        "result is an odd number or even number there are two functions for you to implement (you\n",
        "must create the below two functions):\n",
        "• one is sum_digits,\n",
        "• another one is check_studentid.\n",
        "your code will have two functions as below:\n",
        "def sum_digits ( studentid ):\n",
        "write your code here\n",
        "return sum_digits_result\n",
        "def check_studentid (sum_digits_result) :\n",
        "write your code here\n",
        "\n",
        "Run your functions to find out the result and the result must illustrate whether the result from function check_studentid is odd or even number (this is critical to be used for Question 2).\n"
      ],
      "metadata": {
        "id": "Fr9QICWVihoh"
      }
    },
    {
      "cell_type": "markdown",
      "source": [
        "**Solution 1.7**"
      ],
      "metadata": {
        "id": "TwN1AsUGjnyq"
      }
    },
    {
      "cell_type": "code",
      "source": [
        "student_id = ['S223494027']"
      ],
      "metadata": {
        "id": "XHN0S6h0nXAL"
      },
      "execution_count": 22,
      "outputs": []
    },
    {
      "cell_type": "code",
      "source": [
        "def sum_digits(studentid):\n",
        "    # Initialize the sum to 0\n",
        "    sum_digits_result = 0\n",
        "\n",
        "    # Iterate through each character in the student ID\n",
        "    for char in studentid:\n",
        "        # Check if the character is a numeric digit\n",
        "        if char.isdigit():\n",
        "            # Convert the digit character to an integer and add it to the sum\n",
        "            sum_digits_result += int(char)\n",
        "\n",
        "    return sum_digits_result\n",
        "\n",
        "def check_studentid(sum_digits_result):\n",
        "    # Check if the sum is even or odd\n",
        "    if sum_digits_result % 2 == 0:\n",
        "        return \"Even\"\n",
        "    else:\n",
        "        return \"Odd\"\n",
        "\n",
        "# Student_ID\n",
        "student_id = \"S223494027\"\n",
        "\n",
        "# Calculate the sum of digits\n",
        "sum_result = sum_digits(student_id)\n",
        "\n",
        "# Check if the sum is odd or even\n",
        "result = check_studentid(sum_result)\n",
        "\n",
        "print(f\"Sum of digits in student ID: {sum_result}\")\n",
        "print(f\"Result from check_studentid function: {result}\")\n"
      ],
      "metadata": {
        "colab": {
          "base_uri": "https://localhost:8080/"
        },
        "id": "-V4uaWssjZGS",
        "outputId": "d581870b-cbf2-470d-8175-16f7ba7ceaf9"
      },
      "execution_count": 23,
      "outputs": [
        {
          "output_type": "stream",
          "name": "stdout",
          "text": [
            "Sum of digits in student ID: 33\n",
            "Result from check_studentid function: Odd\n"
          ]
        }
      ]
    },
    {
      "cell_type": "markdown",
      "source": [
        "**Question 1.8**\n",
        "Given an array of integers [1, 2, 6, 8], return indices of the two numbers such that they add up to 10.You may assume that each input would have exactly one solution.\n",
        "Explanation\n",
        "Given nums = [1, 2, 6, 8], target = 10,\n",
        "Because nums[1] + nums[3] = 2 + 8 = 10,\n",
        "return [1, 3].\n",
        "Your code should have a defined function which could take the array nums= [1, 2, 6, 8] as input\n",
        "and run the function to return a list [1,3] (only [1,3]"
      ],
      "metadata": {
        "id": "LaaUeBFqrKvs"
      }
    },
    {
      "cell_type": "markdown",
      "source": [
        "**Solution 1.8**"
      ],
      "metadata": {
        "id": "kmTN7886rdoB"
      }
    },
    {
      "cell_type": "code",
      "source": [
        "nums = [1, 2, 6, 8]\n",
        "target = 10"
      ],
      "metadata": {
        "id": "kDUtAzY8rmVO"
      },
      "execution_count": 24,
      "outputs": []
    },
    {
      "cell_type": "code",
      "source": [
        "def two_sum(nums, target):\n",
        "    num_indices = {}\n",
        "    for i, num in enumerate(nums):\n",
        "        complement = target - num\n",
        "        if complement in num_indices:\n",
        "            return [num_indices[complement], i]\n",
        "        num_indices[num] = i\n",
        "\n",
        "    return []"
      ],
      "metadata": {
        "id": "FBkahunXr9nk"
      },
      "execution_count": 25,
      "outputs": []
    },
    {
      "cell_type": "code",
      "source": [
        "result = two_sum(nums, target)\n",
        "print(result)"
      ],
      "metadata": {
        "colab": {
          "base_uri": "https://localhost:8080/"
        },
        "id": "9IwSCAYPsJ9Y",
        "outputId": "61b31735-d0f6-4093-af8c-27b1551da3be"
      },
      "execution_count": 26,
      "outputs": [
        {
          "output_type": "stream",
          "name": "stdout",
          "text": [
            "[1, 3]\n"
          ]
        }
      ]
    },
    {
      "cell_type": "markdown",
      "source": [
        "# **Part 2 (Version 1)**\n",
        "\n",
        "Whether the three numbers could form the triangle? You need to write code (function) with 3 numeric inputs and then check whether the given three numbers could form the triangle.\n",
        "\n",
        "**Question 2.1**\n",
        "You are given three sets of list and each list contains three numbers, you will need to write a code with functionality of inputting the three numbers from each list and find out the answers for below (three) questions. list1 = [1, 3, 5], list2 = [12, 35, 37], list3 = [2, 2, 2.8]\n",
        "• Define a function to check whether the given three numbers could form the a triangle?\n",
        "• Define a function to check whether the given three numbers could form the righttriangle?\n",
        "• Write the code or function to check whether the given three numbers could form the isosceles triangle?\n",
        "\n",
        "\n"
      ],
      "metadata": {
        "id": "SjVm1kOiteq_"
      }
    },
    {
      "cell_type": "markdown",
      "source": [
        "**Solution 2.1**"
      ],
      "metadata": {
        "id": "Dp0R3so3uPpT"
      }
    },
    {
      "cell_type": "code",
      "source": [
        "list1 = [1, 3, 5]\n",
        "list2 = [12, 35, 37]\n",
        "list3 = [2, 2, 2.8]"
      ],
      "metadata": {
        "id": "myLuWDjR9mAG"
      },
      "execution_count": 27,
      "outputs": []
    },
    {
      "cell_type": "code",
      "source": [
        "def is_triangle(side1, side2, side3):\n",
        "        return side1 + side2 > side3 and side2 + side3 > side1 and side3 + side1 > side2\n",
        "\n",
        "def is_right_triangle(side1, side2, side3):\n",
        "    sides = [side1, side2, side3]\n",
        "    sides.sort()\n",
        "\n",
        "    # Check if it's a right triangle using the Pythagorean theorem\n",
        "    return sides[0]**2 + sides[1]**2 == sides[2]**2\n",
        "\n",
        "def is_isosceles_triangle(side1, side2, side3):\n",
        "    # Check if it's an isosceles triangle (at least two sides have the same length)\n",
        "    return side1 == side2 or side2 == side3 or side3 == side1\n",
        "\n",
        "\n",
        "side1, side2, side3 = list1\n",
        "\n",
        "is_triangle_result = is_triangle(side1, side2, side3)\n",
        "is_right_triangle_result = is_right_triangle(side1, side2, side3)\n",
        "is_isosceles_triangle_result = is_isosceles_triangle(side1, side2, side3)\n",
        "\n",
        "print(\"List 1:\")\n",
        "print(\"Can form a triangle:\", is_triangle_result)\n",
        "print(\"Can form a right triangle:\", is_right_triangle_result)\n",
        "print(\"Can form an isosceles triangle:\", is_isosceles_triangle_result)\n"
      ],
      "metadata": {
        "colab": {
          "base_uri": "https://localhost:8080/"
        },
        "id": "stHuqZ7R9WCc",
        "outputId": "f6e20809-d32b-4069-98bd-13e4979f9862"
      },
      "execution_count": 28,
      "outputs": [
        {
          "output_type": "stream",
          "name": "stdout",
          "text": [
            "List 1:\n",
            "Can form a triangle: False\n",
            "Can form a right triangle: False\n",
            "Can form an isosceles triangle: False\n"
          ]
        }
      ]
    },
    {
      "cell_type": "code",
      "source": [
        "def is_triangle(side1, side2, side3):\n",
        "    # Check the triangle inequality condition\n",
        "    return side1 + side2 > side3 and side2 + side3 > side1 and side3 + side1 > side2\n",
        "\n",
        "def is_right_triangle(side1, side2, side3):\n",
        "    # Sort the sides in ascending order\n",
        "    sides = [side1, side2, side3]\n",
        "    sides.sort()\n",
        "\n",
        "    # Check if it's a right triangle using the Pythagorean theorem\n",
        "    return sides[0]**2 + sides[1]**2 == sides[2]**2\n",
        "\n",
        "def is_isosceles_triangle(side1, side2, side3):\n",
        "    # Check if it's an isosceles triangle (at least two sides have the same length)\n",
        "    return side1 == side2 or side2 == side3 or side3 == side1\n",
        "\n",
        "\n",
        "side1, side2, side3 = list2\n",
        "\n",
        "is_triangle_result = is_triangle(side1, side2, side3)\n",
        "is_right_triangle_result = is_right_triangle(side1, side2, side3)\n",
        "is_isosceles_triangle_result = is_isosceles_triangle(side1, side2, side3)\n",
        "\n",
        "print(\"List 2:\")\n",
        "print(\"Can form a triangle:\", is_triangle_result)\n",
        "print(\"Can form a right triangle:\", is_right_triangle_result)\n",
        "print(\"Can form an isosceles triangle:\", is_isosceles_triangle_result)"
      ],
      "metadata": {
        "colab": {
          "base_uri": "https://localhost:8080/"
        },
        "id": "1KttAUHbBOR3",
        "outputId": "dcc92ba1-58d9-4601-e528-12c3ca663871"
      },
      "execution_count": 29,
      "outputs": [
        {
          "output_type": "stream",
          "name": "stdout",
          "text": [
            "List 2:\n",
            "Can form a triangle: True\n",
            "Can form a right triangle: True\n",
            "Can form an isosceles triangle: False\n"
          ]
        }
      ]
    },
    {
      "cell_type": "code",
      "source": [
        "def is_triangle(side1, side2, side3):\n",
        "    # Check the triangle inequality condition\n",
        "    return side1 + side2 > side3 and side2 + side3 > side1 and side3 + side1 > side2\n",
        "\n",
        "def is_right_triangle(side1, side2, side3):\n",
        "    # Sort the sides in ascending order\n",
        "    sides = [side1, side2, side3]\n",
        "    sides.sort()\n",
        "\n",
        "    # Check if it's a right triangle using the Pythagorean theorem\n",
        "    return sides[0]**2 + sides[1]**2 == sides[2]**2\n",
        "\n",
        "def is_isosceles_triangle(side1, side2, side3):\n",
        "    # Check if it's an isosceles triangle (at least two sides have the same length)\n",
        "    return side1 == side2 or side2 == side3 or side3 == side1\n",
        "\n",
        "\n",
        "side1, side2, side3 = list3\n",
        "\n",
        "is_triangle_result = is_triangle(side1, side2, side3)\n",
        "is_right_triangle_result = is_right_triangle(side1, side2, side3)\n",
        "is_isosceles_triangle_result = is_isosceles_triangle(side1, side2, side3)\n",
        "\n",
        "print(\"List 3:\")\n",
        "print(\"Can form a triangle:\", is_triangle_result)\n",
        "print(\"Can form a right triangle:\", is_right_triangle_result)\n",
        "print(\"Can form an isosceles triangle:\", is_isosceles_triangle_result)\n"
      ],
      "metadata": {
        "colab": {
          "base_uri": "https://localhost:8080/"
        },
        "id": "MOvb189cBfy8",
        "outputId": "eb467ff8-1987-4d2d-929a-13f242ce912c"
      },
      "execution_count": 30,
      "outputs": [
        {
          "output_type": "stream",
          "name": "stdout",
          "text": [
            "List 3:\n",
            "Can form a triangle: True\n",
            "Can form a right triangle: False\n",
            "Can form an isosceles triangle: True\n"
          ]
        }
      ]
    },
    {
      "cell_type": "code",
      "source": [
        "def is_triangle(a, b, c):\n",
        "    return (a + b > c) and (b + c > a) and (c + a > b)\n",
        "\n",
        "def is_right_triangle(a, b, c):\n",
        "    sides = [a, b, c]\n",
        "    sides.sort()\n",
        "    return sides[0]**2 + sides[1]**2 == sides[2]**2\n",
        "\n",
        "def is_isosceles_triangle(a, b, c):\n",
        "    return a == b or b == c or c == a\n",
        "\n",
        "# Test the functions with the given lists\n",
        "list1 = [1, 3, 5]\n",
        "list2 = [12, 35, 37]\n",
        "list3 = [2, 2, 2.8]\n",
        "\n",
        "for i, lst in enumerate([list1, list2, list3], start=1):\n",
        "    print(f\"Results for list {i}:\")\n",
        "    a, b, c = lst\n",
        "    if is_triangle(a, b, c):\n",
        "        print(\"The given three numbers can form a triangle.\")\n",
        "        if is_right_triangle(a, b, c):\n",
        "            print(\"The given three numbers can form a right triangle.\")\n",
        "        else:\n",
        "            print(\"The given three numbers cannot form a right triangle.\")\n",
        "        if is_isosceles_triangle(a, b, c):\n",
        "            print(\"The given three numbers can form an isosceles triangle.\")\n",
        "        else:\n",
        "            print(\"The given three numbers cannot form an isosceles triangle.\")\n",
        "    else:\n",
        "        print(\"The given three numbers cannot form a triangle.\")\n"
      ],
      "metadata": {
        "colab": {
          "base_uri": "https://localhost:8080/"
        },
        "id": "gZoz-6afEkj6",
        "outputId": "a73432c2-ae69-46b9-fe70-848c42f847ed"
      },
      "execution_count": 31,
      "outputs": [
        {
          "output_type": "stream",
          "name": "stdout",
          "text": [
            "Results for list 1:\n",
            "The given three numbers cannot form a triangle.\n",
            "Results for list 2:\n",
            "The given three numbers can form a triangle.\n",
            "The given three numbers can form a right triangle.\n",
            "The given three numbers cannot form an isosceles triangle.\n",
            "Results for list 3:\n",
            "The given three numbers can form a triangle.\n",
            "The given three numbers cannot form a right triangle.\n",
            "The given three numbers can form an isosceles triangle.\n"
          ]
        }
      ]
    },
    {
      "cell_type": "markdown",
      "source": [
        "**Solution 2.2**"
      ],
      "metadata": {
        "id": "QhlDEd-XRQZo"
      }
    },
    {
      "cell_type": "code",
      "source": [
        "import math\n",
        "\n",
        "def find_area(a, b, c):\n",
        "    # Calculate the semi-perimeter\n",
        "    s = (a + b + c) / 2\n",
        "\n",
        "    # Calculate the area using Heron's formula\n",
        "    area = math.sqrt(s * (s - a) * (s - b) * (s - c))\n",
        "\n",
        "    # Round the area to the nearest integer\n",
        "    area = round(area)\n",
        "\n",
        "    return area\n",
        "\n",
        "# Example usage with list1\n",
        "\n",
        "side1, side2, side3 = list1\n",
        "\n",
        "is_triangle_result = is_triangle(side1, side2, side3)\n",
        "\n",
        "if is_triangle_result:\n",
        "    area = find_area(side1, side2, side3)\n",
        "    print(f\"List 1:\")\n",
        "    print(\"Can form a triangle\")\n",
        "    print(\"Area of the triangle:\", area)\n",
        "else:\n",
        "    print(\"List 1 cannot form a triangle\")\n",
        "\n",
        "\n"
      ],
      "metadata": {
        "colab": {
          "base_uri": "https://localhost:8080/"
        },
        "id": "KwhrB33FEwik",
        "outputId": "cda9fec4-3736-47f1-f98c-694cca65639f"
      },
      "execution_count": 32,
      "outputs": [
        {
          "output_type": "stream",
          "name": "stdout",
          "text": [
            "List 1 cannot form a triangle\n"
          ]
        }
      ]
    },
    {
      "cell_type": "code",
      "source": [
        "def find_area(a, b, c):\n",
        "    # Calculate the semi-perimeter\n",
        "    s = (a + b + c) / 2\n",
        "\n",
        "    # Calculate the area using Heron's formula\n",
        "    area = math.sqrt(s * (s - a) * (s - b) * (s - c))\n",
        "\n",
        "    # Round the area to the nearest integer\n",
        "    area = round(area)\n",
        "\n",
        "    return area\n",
        "\n",
        "# Example usage with list1\n",
        "\n",
        "side1, side2, side3 = list2\n",
        "\n",
        "is_triangle_result = is_triangle(side1, side2, side3)\n",
        "\n",
        "if is_triangle_result:\n",
        "    area = find_area(side1, side2, side3)\n",
        "    print(f\"List 2:\")\n",
        "    print(\"Can form a triangle\")\n",
        "    print(\"Area of the triangle:\", area)\n",
        "else:\n",
        "    print(\"List 2 cannot form a triangle\")"
      ],
      "metadata": {
        "colab": {
          "base_uri": "https://localhost:8080/"
        },
        "id": "87Cdx3reHjr9",
        "outputId": "39739903-044c-4970-d3e8-244274eeeff5"
      },
      "execution_count": 33,
      "outputs": [
        {
          "output_type": "stream",
          "name": "stdout",
          "text": [
            "List 2:\n",
            "Can form a triangle\n",
            "Area of the triangle: 210\n"
          ]
        }
      ]
    },
    {
      "cell_type": "code",
      "source": [
        "def find_area(a, b, c):\n",
        "    # Calculate the semi-perimeter\n",
        "    s = (a + b + c) / 2\n",
        "\n",
        "    # Calculate the area using Heron's formula\n",
        "    area = math.sqrt(s * (s - a) * (s - b) * (s - c))\n",
        "\n",
        "    # Round the area to the nearest integer\n",
        "    area = round(area)\n",
        "\n",
        "    return area\n",
        "\n",
        "# Example usage with list1\n",
        "\n",
        "side1, side2, side3 = list3\n",
        "\n",
        "is_triangle_result = is_triangle(side1, side2, side3)\n",
        "\n",
        "if is_triangle_result:\n",
        "    area = find_area(side1, side2, side3)\n",
        "    print(f\"List 3:\")\n",
        "    print(\"Can form a triangle\")\n",
        "    print(\"Area of the triangle:\", area)\n",
        "else:\n",
        "    print(\"List 3 cannot form a triangle\")"
      ],
      "metadata": {
        "colab": {
          "base_uri": "https://localhost:8080/"
        },
        "id": "C8U9o_QRHrmD",
        "outputId": "2f9273aa-8fe7-4da5-e492-772aaa00bd21"
      },
      "execution_count": 30,
      "outputs": [
        {
          "output_type": "stream",
          "name": "stdout",
          "text": [
            "List 3:\n",
            "Can form a triangle\n",
            "Area of the triangle: 2\n"
          ]
        }
      ]
    },
    {
      "cell_type": "markdown",
      "source": [
        "**Part 2 : Version 1**\n",
        "\n",
        "My Student ID is S223494027, where the sum of student id falls as 33\n",
        "and the result from the function is marked as Odd.![image_2023-09-10_202034058.png](data:image/png;base64,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)\n",
        "\n",
        "For Part 2: Took the Version 1 as the results for Question 1.7 as Odd.\n",
        "For Version 1, we have find the area of the triangle out of the given list. We have three lists, where our first task is to identify whether we can form a triangle from the given list. Secondary task is to form a right triangle from the given list. Even by using phythogorus theorem, whether the given three numbers can form isosceles triangle. Isosceles triangle is nothing but a triangle where its two sides are equal.We start the code by defining a triangle by sides a,b,c as side 1, side 2 and side 3.We define the function as if a+b>c and b+c>a and c+a>b as to check if the sides of the triangle are equal or not.Apply the Pythagoras theorem states that “In a right-angled triangle, the square of the hypotenuse side is equal to the sum of squares of the other two sides“. Last we will difine the function as to identify whether the trainagle is isosceles triangle. We will run the code three times with the three list. We could find that List1[1,3,5] cannot be a triangle.List 2[12,35,37] can form a triangle and its a right triangle where its two sides are not equal. Hence, List 2 cannot be a isosceles triangle. List 3 [2,2,2.8] can form a triangle with two sides equal forming isosceles triangle. Where List 3 is not a right triangle. Now, we will calculate the area of the triangle by using Heron's formula. We could find Area for List 2 and List 3 as they are the two list that can form a triangle."
      ],
      "metadata": {
        "id": "WiY_jrUqZ3nM"
      }
    },
    {
      "cell_type": "markdown",
      "source": [
        "**Reference**\n",
        "\n",
        "\n",
        "1.   https://www.mathsisfun.com/data/standard-deviation-formulas.html\n",
        "2.   https://stackoverflow.com/questions/70087607/how-do-i-calculate-standard-deviation-in-python-without-using-numpy\n",
        "3.   https://saturncloud.io/blog/calculating-standard-deviation-in-python-without-using-numpy/\n",
        "4.   https://numpy.org/doc/stable/reference/generated/numpy.std.html\n",
        "5.   https://www.programiz.com/python-programming/examples/flatten-nested-list\n",
        "6.   https://www.scaler.com/topics/flatten-list-python/\n",
        "7.   https://codefather.tech/blog/flatten-list-python/\n",
        "8.   https://stackoverflow.com/questions/20112776/how-do-i-flatten-a-list-of-lists-nested-lists\n",
        "9.   https://www.codeunderscored.com/how-to-flatten-a-list-in-python/\n",
        "10.  https://realpython.com/python-flatten-list/\n",
        "11.  https://www.geeksforgeeks.org/possible-form-triangle-array-values/\n",
        "12.  https://www.geeksforgeeks.org/c-program-find-area-triangle/\n",
        "13. https://www.freecodecamp.org/news/sort-dictionary-by-value-in-python/\n",
        "14. https://www.geeksforgeeks.org/python-program-to-check-if-a-number-is-odd-or-even/\n",
        "15. https://www.programiz.com/python-programming/examples/odd-even\n",
        "16. https://w3codeworld.com/article/131/python-program-to-find-sum-of-digits-of-a-number-using-while-loop-of-any-integer-number\n",
        "17.\n",
        "\n",
        "\n",
        "\n",
        "\n",
        "\n",
        "\n",
        "\n",
        "\n",
        "\n",
        "\n",
        "\n"
      ],
      "metadata": {
        "id": "fgBIwn-tRwSR"
      }
    }
  ]
}